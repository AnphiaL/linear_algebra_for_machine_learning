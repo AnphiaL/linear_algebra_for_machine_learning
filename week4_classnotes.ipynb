{
 "cells": [
  {
   "cell_type": "markdown",
   "id": "7a65c0d3",
   "metadata": {},
   "source": [
    "# Matrices Make Linear Mapping"
   ]
  },
  {
   "cell_type": "markdown",
   "id": "70cc2552",
   "metadata": {},
   "source": [
    "In Module 4, we continue our discussion of matrices; first we think about how to code up matrix multiplication and matrix operations using the Einstein Summation Convention, which is a widely used notation in more advanced linear algebra courses. Then, we look at how matrices can transform a description of a vector from one basis (set of axes) to another. This will allow us to, for example, figure out how to apply a reflection to an image and manipulate images. We'll also look at how to construct a convenient basis vector set in order to do such transformations. Then, we'll write some code to do these transformations and apply this work computationally.\n"
   ]
  },
  {
   "cell_type": "markdown",
   "id": "bb30a710",
   "metadata": {},
   "source": [
    "## Matrices as objects that map one vector onto another; all the types of matrices"
   ]
  },
  {
   "cell_type": "markdown",
   "id": "27ab173c",
   "metadata": {},
   "source": [
    "other way to write matrix transformations down: **Einstein's Summation Convention**\n"
   ]
  },
  {
   "cell_type": "markdown",
   "id": "3687d485",
   "metadata": {},
   "source": [
    "for example, we have a matrix A and a matrix B, AB is dot product of A and B\n",
    "\n",
    "now showing element of AB (ab) with element of A (a) and element of B (b):\n",
    "\n",
    "$ab_{23} = a_{21}b_{13} + a_{22}b_{23} + a_{23}b_{33} + a_{24}b_{43} ...$\n",
    "\n",
    "and in **Einstein's Summation Convention** that would be:\n",
    "\n",
    "$ab_{ik} = \\sum_{j}a_{ij}b_{jk}$\n",
    "\n",
    "$$a_{ij}b_{jk}$$"
   ]
  },
  {
   "cell_type": "markdown",
   "id": "eab18413",
   "metadata": {},
   "source": [
    "notice:\n",
    "\n",
    "if $A = \\begin{pmatrix}a_1\\\\a_2\\\\a_3\\\\...\\\\a_n\\end{pmatrix}$\n",
    "\n",
    "and $B = \\begin{pmatrix}b_1\\\\b_2\\\\b_3\\\\...\\\\b_n\\end{pmatrix}$\n",
    "\n",
    "$AB = \\begin{pmatrix}a_1\\\\a_2\\\\a_3\\\\...\\\\a_n\\end{pmatrix}\\begin{pmatrix}b_1\\\\b_2\\\\b_3\\\\...\\\\b_n\\end{pmatrix} = \\begin{pmatrix}a_1&a_2&a_3&...&a_n\\end{pmatrix}\\begin{pmatrix}b_1\\\\b_2\\\\b_3\\\\...\\\\b_n\\end{pmatrix} = a_ib_i = \\sum a_ib_i$"
   ]
  },
  {
   "cell_type": "markdown",
   "id": "cf65898b",
   "metadata": {},
   "source": [
    "## Matrices transform into the new basis vector set"
   ]
  },
  {
   "cell_type": "markdown",
   "id": "45bf79e6",
   "metadata": {},
   "source": [
    "We're now going to spend a little while looking at how to transform a vector from one set of basis vectors to another."
   ]
  },
  {
   "cell_type": "markdown",
   "id": "79627fad",
   "metadata": {},
   "source": [
    "eg.In panda's world, there are 2 basis vector $\\begin{bmatrix}3\\\\1\\end{bmatrix}$ and $\\begin{bmatrix}1\\\\1\\end{bmatrix}$\n",
    "\n",
    "They are corresponding to basis vectors in my world:$\\begin{bmatrix}1\\\\0\\end{bmatrix}$ and $\\begin{bmatrix}0\\\\1\\end{bmatrix}$\n",
    "\n",
    "Now there is a vector $a = \\begin{bmatrix}\\frac{3}{2}\\\\\\frac{1}{2}\\end{bmatrix}$ in Panda's world, so the vector a in my world would be: $\\begin{bmatrix}3&1\\\\1&1\\end{bmatrix}\\begin{bmatrix}\\frac{3}{2}\\\\\\frac{1}{2}\\end{bmatrix} = \\begin{bmatrix}5\\\\2\\end{bmatrix}$"
   ]
  },
  {
   "cell_type": "markdown",
   "id": "c66b73d1",
   "metadata": {},
   "source": [
    "**Now how to inverse the convertion?**\n",
    "\n",
    "We can calculate the inverse matrix of $\\begin{bmatrix}3&1\\\\1&1\\end{bmatrix}$ is $\\begin{bmatrix}\\frac{1}{2}&-\\frac{1}{2}\\\\-\\frac{1}{2}&\\frac{3}{2}\\end{bmatrix}$\n",
    "\n",
    "So now we know that basis vectors in my world:$\\begin{bmatrix}1\\\\0\\end{bmatrix}$ and $\\begin{bmatrix}0\\\\1\\end{bmatrix}$ are $\\begin{bmatrix}\\frac{1}{2}\\\\-\\frac{1}{2}\\end{bmatrix}$ and $\\begin{bmatrix}-\\frac{1}{2}\\\\\\frac{3}{2}\\end{bmatrix}$ in panda's world\n",
    "\n",
    "So vector $\\begin{bmatrix}5\\\\2\\end{bmatrix}$ in my world will be $\\begin{bmatrix}\\frac{1}{2}&-\\frac{1}{2}\\\\-\\frac{1}{2}&\\frac{3}{2}\\end{bmatrix}\\begin{bmatrix}5\\\\2\\end{bmatrix} = \\begin{bmatrix}\\frac{3}{2}\\\\\\frac{1}{2}\\end{bmatrix}$ in panda's world"
   ]
  },
  {
   "cell_type": "markdown",
   "id": "85276406",
   "metadata": {},
   "source": [
    "**Another way to get the transformation vector by using Projections**\n",
    "\n",
    "We know that the vector a in panda's world is $a = \\begin{bmatrix}\\frac{3}{2}\\\\\\frac{1}{2}\\end{bmatrix}$\n",
    "\n",
    "And the basis vectors of panda's world are: $\\begin{bmatrix}3\\\\1\\end{bmatrix}$ and $\\begin{bmatrix}1\\\\1\\end{bmatrix}$\n",
    "\n",
    "So how can we get the transformation of vector a in my world?\n",
    "\n",
    "$\\begin{bmatrix}\\frac{3}{2}\\\\\\frac{1}{2}\\end{bmatrix}\\begin{bmatrix}3\\\\1\\end{bmatrix} = 5$\n",
    "\n",
    "$\\begin{bmatrix}\\frac{3}{2}\\\\\\frac{1}{2}\\end{bmatrix}\\begin{bmatrix}1\\\\1\\end{bmatrix} = 2$\n",
    "\n",
    "So the transformation of vector a in my world will be $\\begin{bmatrix}5\\\\2\\end{bmatrix}$"
   ]
  },
  {
   "cell_type": "markdown",
   "id": "a76bfacf",
   "metadata": {},
   "source": [
    "**Notice**\n",
    "\n",
    "**You can use Projections to calculate the transformation only if these basis vectors are orthogonal. Or you it won't work.**\n",
    "\n",
    "In our case, the basis vectors of panda's world are not orthogonal.\n",
    "\n",
    "The only reason why projection works in our case is becuase the basis vectors of panda's world are $\\begin{bmatrix}3\\\\1\\end{bmatrix}$ and $\\begin{bmatrix}1\\\\1\\end{bmatrix}$, so the result of $\\begin{bmatrix}3&1\\\\1&1\\end{bmatrix}\\begin{bmatrix}\\frac{3}{2}\\\\\\frac{1}{2}\\end{bmatrix}$ is exactly the same as the result of $\\begin{bmatrix}\\frac{3}{2}\\\\\\frac{1}{2}\\end{bmatrix}\\begin{bmatrix}3\\\\1\\end{bmatrix}$ and $\\begin{bmatrix}\\frac{3}{2}\\\\\\frac{1}{2}\\end{bmatrix}\\begin{bmatrix}1\\\\1\\end{bmatrix}$"
   ]
  },
  {
   "cell_type": "markdown",
   "id": "769205bb",
   "metadata": {},
   "source": [
    "## How to do the transformation of vector that's already in a change basis"
   ]
  },
  {
   "cell_type": "markdown",
   "id": "d8b6d047",
   "metadata": {},
   "source": [
    "We have a vector $a = \\begin{bmatrix}x\\\\y\\end{bmatrix}$ in panda's world\n",
    "\n",
    "Now we want to write a 45 degree rotation of vector a in panda's world. But I don't know how. I only know how to write a 45 degree rotation matrix in my world which is $R = \\frac{1}{\\sqrt{2}}\\begin{bmatrix}1&-1\\\\1&1\\end{bmatrix}$\n",
    "\n",
    "And I also know that the basis vectors of panda's world are $\\begin{bmatrix}3\\\\1\\end{bmatrix}$ and $\\begin{bmatrix}1\\\\1\\end{bmatrix}$. So we can construct the basic matrix of panda's world $P = \\begin{bmatrix}3&1\\\\1&1\\end{bmatrix}$ and the inverse of B: $P^{-1} = \\frac{1}{2}\\begin{bmatrix}1&-1\\\\-1&3\\end{bmatrix}$"
   ]
  },
  {
   "cell_type": "markdown",
   "id": "87808db0",
   "metadata": {},
   "source": [
    "**Here is a step-by-step transformation:**\n",
    "\n",
    "Step 1: Get the transformation of vector a in our world by using: $Pa = \\begin{bmatrix}3&1\\\\1&1\\end{bmatrix}\\begin{bmatrix}x\\\\y\\end{bmatrix}$\n",
    "\n",
    "Step 2: Get the roation by using R: $RPa = \\frac{1}{\\sqrt{2}}\\begin{bmatrix}1&-1\\\\1&1\\end{bmatrix}\\begin{bmatrix}3&1\\\\1&1\\end{bmatrix}\\begin{bmatrix}x\\\\y\\end{bmatrix}$\n",
    "\n",
    "Step 3: Transformate a into the panda's world by using P^{-1}: $P^{-1}RPa = \\frac{1}{2}\\begin{bmatrix}1&-1\\\\-1&3\\end{bmatrix}\\frac{1}{\\sqrt{2}}\\begin{bmatrix}1&-1\\\\1&1\\end{bmatrix}\\begin{bmatrix}3&1\\\\1&1\\end{bmatrix}\\begin{bmatrix}x\\\\y\\end{bmatrix}$\n",
    "\n",
    "So the calculation expression will be: $P^{-1}RPa$"
   ]
  },
  {
   "cell_type": "markdown",
   "id": "2781d8ff",
   "metadata": {},
   "source": [
    "So if we have $a = \\frac{1}{\\sqrt{2}}\\begin{bmatrix}2&-0\\\\4&2\\end{bmatrix}$\n",
    "\n",
    "We will have $P^{-1}RPa = \\frac{1}{2\\sqrt{2}}\\begin{bmatrix}-2&-2\\\\10&6\\end{bmatrix}$"
   ]
  },
  {
   "cell_type": "markdown",
   "id": "696822cc",
   "metadata": {},
   "source": [
    "## Making Multiple Mappings, deciding if these are reversible"
   ]
  },
  {
   "cell_type": "markdown",
   "id": "d5a5c2ff",
   "metadata": {},
   "source": [
    "### Orthogonal Matrices"
   ]
  },
  {
   "cell_type": "markdown",
   "id": "6eb47076",
   "metadata": {},
   "source": [
    "**Transpose**\n",
    "\n",
    "$A^T_{ij} = A_{ji}$"
   ]
  },
  {
   "cell_type": "markdown",
   "id": "ee5a23da",
   "metadata": {},
   "source": [
    "Imagine we have tow nxn matrices $A$ and $A^T$:\n",
    "\n",
    "$A = \\begin{pmatrix}\\begin{pmatrix}...\\\\a_1\\\\...\\end{pmatrix}\\begin{pmatrix}...\\\\a_2\\\\...\\end{pmatrix}\\begin{pmatrix}...\\\\a_3\\\\...\\end{pmatrix}...\\begin{pmatrix}...\\\\a_n\\\\...\\end{pmatrix}\\end{pmatrix}$\n",
    "\n",
    "$A^T = \\begin{pmatrix}(...a_1...)\\\\(...a_2...)\\\\(...a_3...)\\\\.........\\\\(...a_n...)\\end{pmatrix}$\n",
    "\n",
    "$a_ia_j = 0 if i \\neq j$\n",
    "\n",
    "$a_ia_j = 1 if i = j$\n",
    "\n",
    "**A set of unit length basis vectors that are all perpendicular to each other are called an orthonormal basis set**\n",
    "\n",
    "**And the matrix composed of them is called an orthogonal matrix.**"
   ]
  },
  {
   "cell_type": "markdown",
   "id": "c31da951",
   "metadata": {},
   "source": [
    "And the result of $A^TA$ will be an **Indentity matrix** which means that $A_T$ is a valid inverse of $A$"
   ]
  },
  {
   "cell_type": "markdown",
   "id": "aa17261d",
   "metadata": {},
   "source": [
    "So the **determinant of an orthogonal matrix must be either plus or minus one**. The minus is what arises in the new basis, if the new basis vector set flits space around. They stay inverted, they make it left-handed. "
   ]
  },
  {
   "cell_type": "markdown",
   "id": "e448289a",
   "metadata": {},
   "source": [
    "(remember that in the last module on vectors we said that transforming a vector to a new coordinate system was just taking the projection or dot product of that vector)"
   ]
  },
  {
   "cell_type": "markdown",
   "id": "1245aec3",
   "metadata": {},
   "source": [
    "### Application in Data Science\n",
    "\n",
    "Now in data science what we're really saying here is that wherever possible, we want to use **an orthonormal basis vector set** when we transform our data. \n",
    "\n",
    "That is, we want our **transformation matrix to be an orthogonal matrix**. That means the **inverse is easy to compute**. It means the transmission is reversible because it doesn't collapse space. \n",
    "\n",
    "It means the transmission is reversible because it doesn't collapse space. It means that the projection is just the dot product. Lots of things are nice and pleasant, and easy.\n",
    "\n",
    "So we can say that the most convenient basis factor set of all which is the orthonormal basis factor set which together make the orthogonal matrix whose inverse is its transpose. "
   ]
  },
  {
   "cell_type": "markdown",
   "id": "14d90cb4",
   "metadata": {},
   "source": [
    "## Recognising mapping matrices and applying these to data"
   ]
  },
  {
   "cell_type": "markdown",
   "id": "1594c171",
   "metadata": {},
   "source": [
    "### The Gram–Schmidt process"
   ]
  },
  {
   "cell_type": "markdown",
   "id": "da856d53",
   "metadata": {},
   "source": [
    "**Check linear independency: write down their columns in a matrix and check the determinant isn't zero.**"
   ]
  },
  {
   "cell_type": "markdown",
   "id": "38a72d96",
   "metadata": {},
   "source": [
    "Now here is a method which we can use to construct a orthogonal basis: **Gram-Schmidt process**.The Gram-Schmidt process is a method for constructing an orthonormal  basis of a space that a set of given vectors span. It can also be used  to determine the dimension of that space, which may be different than  the dimension of the vectors themselves or the number of vectors provided to span the space."
   ]
  },
  {
   "cell_type": "markdown",
   "id": "9b1c61e8",
   "metadata": {},
   "source": [
    "**What is Gram-Schmidt Process?**\n",
    "\n",
    "Imagine we have a bunch of vectors in a vector set $V = \\{v_1, v_2, v_3, ... ,v_n\\}$\n",
    "\n",
    "For $v_1$, we have $u_1 = v_1$, and $e_1 = \\frac{v_1}{\\begin{vmatrix}v_1\\end{vmatrix}}$\n",
    "\n",
    "For $v_2$, we have $u_2 = v_2 - (v_2.e_1)e_1$, and $e_2 = \\frac{u_2}{\\begin{vmatrix}u_2\\end{vmatrix}}$\n",
    "\n",
    "For $v_3$, we have $u_3 = v_3 - (v_3.e_1)e_1 - (v_3.e_2)e_2$, and $e_3 = \\frac{u_3}{\\begin{vmatrix}u_3\\end{vmatrix}}$"
   ]
  },
  {
   "cell_type": "markdown",
   "id": "cc28f61f",
   "metadata": {},
   "source": [
    "## Example: Reflecting in a plane"
   ]
  },
  {
   "cell_type": "markdown",
   "id": "0adda217",
   "metadata": {},
   "source": [
    "Imagine we have a plane. There are 2 vectors $v_1$ and $v_2$ in the plane and another vector $v-3$ outside the plane. \n",
    "\n",
    "$v_1 = \\begin{pmatrix}1\\\\1\\\\1\\end{pmatrix}$\n",
    "\n",
    "$v_2 = \\begin{pmatrix}2\\\\0\\\\1\\end{pmatrix}$\n",
    "\n",
    "$v_3 = \\begin{pmatrix}3\\\\1\\\\-1\\end{pmatrix}$\n",
    "\n",
    "And by using Gram-Schmidt Process, we can get 3 basis vectors $e_1$ $e_2$ $e_3$\n",
    "\n",
    "$E = \\begin{bmatrix}\\begin{pmatrix}e_1\\end{pmatrix}\\begin{pmatrix}e_2\\end{pmatrix}\\begin{pmatrix}e_3\\end{pmatrix}\\end{bmatrix} = \\begin{pmatrix}\\frac{1}{\\sqrt{3}}\\begin{pmatrix}1\\\\1\\\\1\\end{pmatrix}\\frac{1}{\\sqrt{2}}\\begin{pmatrix}1\\\\-1\\\\0\\end{pmatrix}\\frac{1}{\\sqrt{3}}\\begin{pmatrix}1\\\\1\\\\-2\\end{pmatrix}\\end{pmatrix}$\n",
    "\n",
    "Now if we have a vactor $r = \\begin{pmatrix}2\\\\3\\\\5\\end{pmatrix}$. Now what I want to do is reflect r down through this plane. So I'm going to drop r down through this plane. There he is when he intersects the plane. And then out the other side to get a vector $r'$. "
   ]
  },
  {
   "cell_type": "markdown",
   "id": "fa712653",
   "metadata": {},
   "source": [
    "And we can construct a reflection matrix $T_E$\n",
    "\n",
    "$T_E = \\begin{pmatrix}1&0&0\\\\0&1&0\\\\0&0&-1\\end{pmatrix}$"
   ]
  },
  {
   "cell_type": "markdown",
   "id": "ea772c4a",
   "metadata": {},
   "source": [
    "And therefore, if I can get the vector r defined in the plane's basis vector set, in the E basis, I can then do the reflection. \n",
    "\n",
    "And then I can put it back into my basis vector set. And then I have the complete transformation. "
   ]
  },
  {
   "cell_type": "markdown",
   "id": "5334789e",
   "metadata": {},
   "source": [
    "Step 1:\n",
    "\n",
    "transform r into plane E to get $r_E$ by using $E^{-1}$\n",
    "\n",
    "Step 2:\n",
    "\n",
    "reflect $r_E$ to get $r_E'$ by using $T_E$\n",
    "\n",
    "Step 3:\n",
    "\n",
    "Read $r_E'$ back into my basis to get $r'$ by doing E"
   ]
  },
  {
   "cell_type": "markdown",
   "id": "ff961130",
   "metadata": {},
   "source": [
    "The complete Expression will be: $ET_EE^{-1}r = r'$"
   ]
  },
  {
   "cell_type": "markdown",
   "id": "6bebbeb2",
   "metadata": {},
   "source": [
    "This might be useful, for instance, if you want to transform images of faces for the purpose of doing facial recognition. "
   ]
  }
 ],
 "metadata": {
  "kernelspec": {
   "display_name": "Python 3 (ipykernel)",
   "language": "python",
   "name": "python3"
  },
  "language_info": {
   "codemirror_mode": {
    "name": "ipython",
    "version": 3
   },
   "file_extension": ".py",
   "mimetype": "text/x-python",
   "name": "python",
   "nbconvert_exporter": "python",
   "pygments_lexer": "ipython3",
   "version": "3.8.8"
  }
 },
 "nbformat": 4,
 "nbformat_minor": 5
}
