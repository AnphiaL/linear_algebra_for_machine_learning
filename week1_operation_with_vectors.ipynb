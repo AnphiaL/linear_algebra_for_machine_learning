{
 "cells": [
  {
   "cell_type": "markdown",
   "id": "f9e331df",
   "metadata": {},
   "source": [
    "# Introduction to Linear Algebra and to Mathematics for Machine Learning"
   ]
  },
  {
   "cell_type": "markdown",
   "id": "e2df995f",
   "metadata": {},
   "source": [
    "**Learning Goals**\n",
    "\n",
    "1.Recall how machine learning and vectors and matrices are related\n",
    "\n",
    "2.Interpret how changes in the model parameters affect the quality of the fit to the training data\n",
    "\n",
    "3.Recognize that variations in the model parameters are vectors on the response surface - that vectors are a generic concept not limited to a physical real space\n",
    "U\n",
    "\n",
    "4.se substitution / elimination to solve a fairly easy linear algebra problem\n",
    "\n",
    "5.Understand how to add vectors and multiply by a scalar number"
   ]
  },
  {
   "cell_type": "markdown",
   "id": "e73d556d",
   "metadata": {},
   "source": [
    "simultaneous equations\n",
    "\n",
    "$$2a + 3b = 8$$\n",
    "$$10a + 1b = 13$$\n",
    "\n",
    "constant linear coefficients: 2, 3, 10, 1\n",
    "\n",
    "input variables: a, b\n",
    "\n",
    "output: 8, 13\n",
    "\n",
    "so the vectior$$\\begin{pmatrix}a\\\\b\\end{pmatrix}$$describe the prices of apple and bananas\n",
    "\n",
    "$$\\begin{pmatrix}2&3\\\\10&1\\end{pmatrix}\\begin{pmatrix}a\\\\b\\end{pmatrix} = \\begin{pmatrix}8\\\\13\\end{pmatrix}$$ \n",
    "\n",
    "these are: matrices, vectors and vectors\n",
    "\n",
    "in machine learning, we actually want to solve: how to find the optimal value of the parameters in the equation describing the line in a histgram, the ones that fit the data in the histogram best.\n",
    "\n",
    "and we can plot how good the fit was in terms of the parameters"
   ]
  },
  {
   "cell_type": "markdown",
   "id": "e84f1b0f",
   "metadata": {},
   "source": [
    "so it gives us 2 questions:\n",
    "\n",
    "1. the problem of apple and banaes of **solving simultaneous equations**\n",
    "\n",
    "2. **the optimization problem of fitting some data with an equation with some fitting parameters**\n",
    "\n",
    "(related to multivariate claculus)"
   ]
  },
  {
   "cell_type": "markdown",
   "id": "e79aaa08",
   "metadata": {},
   "source": [
    "## example 1"
   ]
  },
  {
   "cell_type": "markdown",
   "id": "e49976e1",
   "metadata": {},
   "source": [
    "the distribution of heights in population (height-frequency of height in population)\n",
    "\n",
    "(will looks like the **normal or Gaussian distribution**)\n",
    "\n",
    "$$f(x) = \\frac{1}{\\sigma\\sqrt{2\\pi}}^\\frac{(-(x-\\mu)^2}{2\\sigma^2}$$"
   ]
  },
  {
   "cell_type": "markdown",
   "id": "e2ef1b1f",
   "metadata": {},
   "source": [
    "**Application in Python**"
   ]
  },
  {
   "cell_type": "code",
   "execution_count": 4,
   "id": "213c8cdd",
   "metadata": {},
   "outputs": [],
   "source": [
    "import numpy as np\n",
    "import scipy as sp\n",
    "from scipy import stats\n",
    "import matplotlib.pyplot as plt"
   ]
  },
  {
   "cell_type": "markdown",
   "id": "b30f1554",
   "metadata": {},
   "source": [
    "a hist plot of a np.random.normal data"
   ]
  },
  {
   "cell_type": "code",
   "execution_count": 8,
   "id": "5608eadb",
   "metadata": {},
   "outputs": [
    {
     "data": {
      "text/plain": [
       "(array([0.03008393, 0.15315454, 0.4321146 , 0.71927936, 0.71107465,\n",
       "        0.48407774, 0.16409415, 0.02734903, 0.00820471, 0.00546981]),\n",
       " array([-1.48234496, -1.11670121, -0.75105746, -0.38541372, -0.01976997,\n",
       "         0.34587378,  0.71151753,  1.07716127,  1.44280502,  1.80844877,\n",
       "         2.17409252]),\n",
       " <a list of 10 Patch objects>)"
      ]
     },
     "execution_count": 8,
     "metadata": {},
     "output_type": "execute_result"
    },
    {
     "data": {
      "image/png": "[encoded data removed]",
      "text/plain": [
       "<Figure size 432x288 with 1 Axes>"
      ]
     },
     "metadata": {
      "needs_background": "light"
     },
     "output_type": "display_data"
    }
   ],
   "source": [
    "data = np.random.normal(0,0.5,1000)\n",
    "plt.hist(data,density=True)"
   ]
  },
  {
   "cell_type": "markdown",
   "id": "d926a3f4",
   "metadata": {},
   "source": [
    "use a normal distribution to fit it:"
   ]
  },
  {
   "cell_type": "code",
   "execution_count": 13,
   "id": "b7ce906d",
   "metadata": {},
   "outputs": [
    {
     "data": {
      "text/plain": [
       "(0.00120345774466149, 0.5061359956148533)"
      ]
     },
     "execution_count": 13,
     "metadata": {},
     "output_type": "execute_result"
    }
   ],
   "source": [
    "mean,var = stats.norm.fit(data)\n",
    "mean,var"
   ]
  },
  {
   "cell_type": "markdown",
   "id": "f73f39ef",
   "metadata": {},
   "source": [
    "notiece that 0.0 is in the middle"
   ]
  },
  {
   "cell_type": "code",
   "execution_count": 15,
   "id": "61738353",
   "metadata": {},
   "outputs": [],
   "source": [
    "x_data = np.arange(-2,2,0.001)"
   ]
  },
  {
   "cell_type": "code",
   "execution_count": 18,
   "id": "0baabfbb",
   "metadata": {},
   "outputs": [],
   "source": [
    "fitted_data = stats.norm.pdf(x_data,mean,var) \n",
    "#use a new data set with the old mean and var to fit it"
   ]
  },
  {
   "cell_type": "code",
   "execution_count": 20,
   "id": "3eff943b",
   "metadata": {},
   "outputs": [
    {
     "data": {
      "text/plain": [
       "(array([0.03008393, 0.15315454, 0.4321146 , 0.71927936, 0.71107465,\n",
       "        0.48407774, 0.16409415, 0.02734903, 0.00820471, 0.00546981]),\n",
       " array([-1.48234496, -1.11670121, -0.75105746, -0.38541372, -0.01976997,\n",
       "         0.34587378,  0.71151753,  1.07716127,  1.44280502,  1.80844877,\n",
       "         2.17409252]),\n",
       " <a list of 10 Patch objects>)"
      ]
     },
     "execution_count": 20,
     "metadata": {},
     "output_type": "execute_result"
    },
    {
     "data": {
      "image/png": "[encoded data removed]",
      "text/plain": [
       "<Figure size 432x288 with 1 Axes>"
      ]
     },
     "metadata": {
      "needs_background": "light"
     },
     "output_type": "display_data"
    }
   ],
   "source": [
    "#ORIGIN\n",
    "plt.plot(x_data,fitted_data,'r-')\n",
    "plt.hist(data,density=True)"
   ]
  },
  {
   "cell_type": "markdown",
   "id": "3e2bb727",
   "metadata": {},
   "source": [
    "**but if we do not know the parameters of the target dataset, to find mu and sigma, well, the best possible mu and sigma that fits the data as well as is possible.**"
   ]
  },
  {
   "cell_type": "code",
   "execution_count": 23,
   "id": "30c98da6",
   "metadata": {},
   "outputs": [
    {
     "data": {
      "text/plain": [
       "(array([0.03008393, 0.15315454, 0.4321146 , 0.71927936, 0.71107465,\n",
       "        0.48407774, 0.16409415, 0.02734903, 0.00820471, 0.00546981]),\n",
       " array([-1.48234496, -1.11670121, -0.75105746, -0.38541372, -0.01976997,\n",
       "         0.34587378,  0.71151753,  1.07716127,  1.44280502,  1.80844877,\n",
       "         2.17409252]),\n",
       " <a list of 10 Patch objects>)"
      ]
     },
     "execution_count": 23,
     "metadata": {},
     "output_type": "execute_result"
    },
    {
     "data": {
      "image/png": "[encoded data removed]",
      "text/plain": [
       "<Figure size 432x288 with 1 Axes>"
      ]
     },
     "metadata": {
      "needs_background": "light"
     },
     "output_type": "display_data"
    }
   ],
   "source": [
    "#A\n",
    "x_data = np.arange(-2,2,0.001)\n",
    "fitted_data = stats.norm.pdf(x_data,0.0,0.3) \n",
    "plt.plot(x_data,fitted_data,'r-')\n",
    "plt.hist(data,density=True)"
   ]
  },
  {
   "cell_type": "markdown",
   "id": "c19802a9",
   "metadata": {},
   "source": [
    "This one has a narrower sigma, but it's got the same mu. It'd be too low at the edges here, and too high in the middle。"
   ]
  },
  {
   "cell_type": "code",
   "execution_count": 33,
   "id": "df66012e",
   "metadata": {},
   "outputs": [
    {
     "data": {
      "text/plain": [
       "(array([0.03008393, 0.15315454, 0.4321146 , 0.71927936, 0.71107465,\n",
       "        0.48407774, 0.16409415, 0.02734903, 0.00820471, 0.00546981]),\n",
       " array([-1.48234496, -1.11670121, -0.75105746, -0.38541372, -0.01976997,\n",
       "         0.34587378,  0.71151753,  1.07716127,  1.44280502,  1.80844877,\n",
       "         2.17409252]),\n",
       " <a list of 10 Patch objects>)"
      ]
     },
     "execution_count": 33,
     "metadata": {},
     "output_type": "execute_result"
    },
    {
     "data": {
      "image/png": "[encoded data removed]",
      "text/plain": [
       "<Figure size 432x288 with 1 Axes>"
      ]
     },
     "metadata": {
      "needs_background": "light"
     },
     "output_type": "display_data"
    }
   ],
   "source": [
    "#B\n",
    "#x_data = np.arange(-2,2,0.001)\n",
    "fitted_data = stats.norm.pdf(x_data,0.001,0.75) \n",
    "plt.plot(x_data,fitted_data,'r-')\n",
    "plt.hist(data,density=True)"
   ]
  },
  {
   "cell_type": "markdown",
   "id": "80cecbb2",
   "metadata": {},
   "source": [
    "This one has a wider sigma, but it's got the same mu. It'd be too high at the edges here, and too low in the middle."
   ]
  },
  {
   "cell_type": "markdown",
   "id": "330a920d",
   "metadata": {},
   "source": [
    "So then we could add up the differences between all of our measurements, and all of our estimates. We've got all of these places where we underestimate here, and all of these places where we overestimate here. And we could add up those differences or, in fact, the squares of them to get a measure of the goodness or badness of the fit. "
   ]
  },
  {
   "cell_type": "markdown",
   "id": "19f39e06",
   "metadata": {},
   "source": [
    "We could then plot, for a given value of mu and sigma, what the difference was."
   ]
  },
  {
   "cell_type": "markdown",
   "id": "95d2cafa",
   "metadata": {},
   "source": [
    "So if we were at the right value, we'd get a value of goodness where the sum of the squares of the differences was nought. And if mu was too far over, if we had mis-estimated mu and we got the distribution shifted over, so the width was right, but we had some wrong value of mu there, that we get some value of all the sums of the squares of the differences of goodness being some value here that was higher. And it might be the same if we went over the other side and we had some value there. And if we were too wide, we'd get something there or too thin, we'd get something that was too thin like that, something like that, say. So we'd get some other value of goodness. We could imagine plotting out all of the values of where we have the same value of goodness or badness for different values of mu and sigma. And we could then do that for some other value of badness, and we might get a contour that looked like this, and another contour that looked like this, and so on and so forth. Now, say we don't want to compute the value of this goodness parameter for every possible mu and sigma. We just want to do it a few times, and then find our way to the best possible fit of all."
   ]
  },
  {
   "cell_type": "code",
   "execution_count": 72,
   "id": "2ae887cb",
   "metadata": {},
   "outputs": [
    {
     "data": {
      "image/png": "[encoded data removed]",
      "text/plain": [
       "<Figure size 432x288 with 2 Axes>"
      ]
     },
     "metadata": {
      "needs_background": "light"
     },
     "output_type": "display_data"
    }
   ],
   "source": [
    "from pylab import meshgrid,cm,imshow,contour,clabel,colorbar,axis,title,show\n",
    "\n",
    "def difference(μ, σ):\n",
    "    return (stats.norm.cdf(3, loc=mean, scale=var)-stats.norm.cdf(-3, loc=mean, scale=var))-(stats.norm.cdf(3, loc=μ, scale=σ)-stats.norm.cdf(-3, loc=μ, scale=σ))\n",
    "\n",
    "np.random.seed(2)\n",
    "\n",
    "μ = np.arange(0,1,0.001)\n",
    "\n",
    "σ = np.arange(-2,2,0.001)\n",
    "\n",
    "μ, σ = meshgrid(μ, σ)\n",
    "\n",
    "diff = difference(μ, σ)\n",
    "\n",
    "im = imshow(diff,cmap=cm.RdBu) # drawing the function\n",
    "# adding the Contour lines with labels\n",
    "cset = contour(diff,np.arange(-1,1,0.01),linewidths=2,cmap=cm.Set2)\n",
    "clabel(cset,inline=True,fmt='%1.1f',fontsize=10)\n",
    "colorbar(im) # adding the colobar on the right\n",
    "# latex fashion title\n",
    "title('The Difference Between The Original Data The Fitting Line')\n",
    "show()\n"
   ]
  },
  {
   "cell_type": "markdown",
   "id": "160e933d",
   "metadata": {},
   "source": [
    "Say we started off here with some guess that was too big a mu and too small a width. We thought people were taller than they really are, and that they were tighter packed in their heights than they really are. But what we could do is we could say well, if I do a little move in mu and sigma, then does it get better or worse? And if it gets better, well, we'll keep moving that direction. So we could imagine making a vector of a change in mu and a change in sigma. And we could have our original mu and sigma there. And we could have a new value, mu prime, sigma prime, and ask if that gives us a better answer? If it's better there or if mu prime sigma prime took us over here? If we were better or worse there, something like that.\n",
    "\n",
    "Now actually, if we could find what **the steepest way down the hill** was, then we could go down this set of contours, this sort of landscape here **towards the minimum point, towards the point where get the best possible fit**. "
   ]
  },
  {
   "cell_type": "markdown",
   "id": "cbc72a11",
   "metadata": {},
   "source": [
    "**Notation**\n",
    "\n",
    "mean: μ.\n",
    "\n",
    "the standard deviation: σ."
   ]
  },
  {
   "cell_type": "markdown",
   "id": "8fde506a",
   "metadata": {},
   "source": [
    "# Fundamental Operations With Vectors"
   ]
  },
  {
   "cell_type": "markdown",
   "id": "1aee7a70",
   "metadata": {},
   "source": [
    "think vectors as ```attrbutes``` of an object\n",
    "\n",
    "**in data science, we think of a vector as being a thing that describes the object**"
   ]
  },
  {
   "cell_type": "markdown",
   "id": "dc824aad",
   "metadata": {},
   "source": [
    "bacsically, vectors only have 2 rules:\n",
    "\n",
    "1. additions (must be associative)\n",
    "\n",
    "2. multiplication by scalar number"
   ]
  },
  {
   "cell_type": "markdown",
   "id": "86bb44a8",
   "metadata": {},
   "source": [
    "**Addition Principles**\n",
    "\n",
    "1. Associativity\n",
    "\n",
    "(r + s) + t = r + (s + t)\n",
    "\n",
    "a consequence of it not mattering what order we had "
   ]
  },
  {
   "cell_type": "markdown",
   "id": "406032ba",
   "metadata": {},
   "source": [
    "**Multiplication Principles**\n",
    "\n",
    "a scalar number multiply a vector = a scalar number multiply every component of the vector\n",
    "\n",
    "eg. $$r = \\begin{pmatrix}2\\\\3\\end{pmatrix}$$\n",
    "\n",
    "$$ 2 \\times r = 2 \\times \\begin{pmatrix}2\\\\3\\end{pmatrix} =  \\begin{pmatrix}4\\\\6\\end{pmatrix}$$"
   ]
  }
 ],
 "metadata": {
  "kernelspec": {
   "display_name": "Python 3 (ipykernel)",
   "language": "python",
   "name": "python3"
  },
  "language_info": {
   "codemirror_mode": {
    "name": "ipython",
    "version": 3
   },
   "file_extension": ".py",
   "mimetype": "text/x-python",
   "name": "python",
   "nbconvert_exporter": "python",
   "pygments_lexer": "ipython3",
   "version": "3.8.8"
  }
 },
 "nbformat": 4,
 "nbformat_minor": 5
}
