{
 "cells": [
  {
   "cell_type": "markdown",
   "id": "a6238379",
   "metadata": {},
   "source": [
    "# Matrices in Linear Algebra: Objects that operate on Vectors"
   ]
  },
  {
   "cell_type": "markdown",
   "id": "da1365ef",
   "metadata": {},
   "source": [
    "## Matrices, vectors, and solving simultaneous equation problems"
   ]
  },
  {
   "cell_type": "markdown",
   "id": "ff0f34ee",
   "metadata": {},
   "source": [
    "write simultaneous equations in another way:\n",
    "\n",
    "$$2a + 3b = 8$$\n",
    "$$10 + 1b = 13$$\n",
    "\n",
    "transformation in matrices:\n",
    "\n",
    "$$\\begin{pmatrix}2&3\\\\10&1\\end{pmatrix}\\begin{pmatrix}a\\\\b\\end{pmatrix} = \\begin{pmatrix}8\\\\13\\end{pmatrix}$$\n",
    "\n",
    "and \n",
    "\n",
    "$$\\begin{pmatrix}2a+3b\\\\10a+1b\\end{pmatrix} = \\begin{pmatrix}8\\\\13\\end{pmatrix}$$\n",
    "\n",
    "the value of a,b is a vector: **what vector I need in order to get a transformed product at the position 8 13**\n",
    "\n",
    "It means we use a vector $\\begin{bmatrix}a\\\\b\\end{bmatrix}$ transform $\\begin{bmatrix}2&3\\\\10&1\\end{bmatrix}$ into $\\begin{bmatrix}8\\\\13\\end{bmatrix}$\n",
    "\n",
    "just like: $\\begin{bmatrix}2&3\\\\10&1\\end{bmatrix}\\begin{bmatrix}1\\\\0\\end{bmatrix} = \\begin{bmatrix}2\\\\10\\end{bmatrix}$\n",
    "\n",
    "so:\n",
    "\n",
    "$$\\begin{pmatrix}2&3\\\\10&1\\end{pmatrix}\\begin{pmatrix}a\\\\b\\end{pmatrix} = \\begin{pmatrix}8\\\\13\\end{pmatrix}$$\n",
    "$$A r = r'$$"
   ]
  },
  {
   "cell_type": "markdown",
   "id": "faf67609",
   "metadata": {},
   "source": [
    "**Here are some rules we can use:**\n",
    "\n",
    "$$A(nr) = nr'$$\n",
    "$$A(r+s) = Ar + As$$"
   ]
  },
  {
   "cell_type": "markdown",
   "id": "f0d9e2cc",
   "metadata": {},
   "source": [
    "we can use these rules like:\n",
    "    \n",
    "$$\\begin{bmatrix}2&3\\\\10&1\\end{bmatrix}\\begin{bmatrix}5\\\\4\\end{bmatrix} = \\begin{bmatrix}2&3\\\\10&1\\end{bmatrix}(5\\begin{bmatrix}1\\\\0\\end{bmatrix} + 4\\begin{bmatrix}0\\\\1\\end{bmatrix}) =  5\\begin{bmatrix}2&3\\\\10&1\\end{bmatrix}\\begin{bmatrix}1\\\\0\\end{bmatrix} + 4\\begin{bmatrix}2&3\\\\10&1\\end{bmatrix}\\begin{bmatrix}0\\\\1\\end{bmatrix} = \\begin{bmatrix}10&12\\\\50&4\\end{bmatrix}$$"
   ]
  },
  {
   "cell_type": "markdown",
   "id": "ff64a3fb",
   "metadata": {},
   "source": [
    "## Types of Matrix Transformation"
   ]
  },
  {
   "cell_type": "markdown",
   "id": "4d885284",
   "metadata": {},
   "source": [
    "**Identity Matrix**\n",
    "\n",
    "$$\\begin{bmatrix}1&0\\\\0&1\\end{bmatrix}\\begin{bmatrix}x\\\\y\\end{bmatrix} = \\begin{bmatrix}x\\\\y\\end{bmatrix}$$"
   ]
  },
  {
   "cell_type": "markdown",
   "id": "2441126e",
   "metadata": {},
   "source": [
    "**Inversion**\n",
    "$$\\begin{bmatrix}-1&0\\\\0&-1\\end{bmatrix}\\begin{bmatrix}x\\\\y\\end{bmatrix} = \\begin{bmatrix}-x\\\\-y\\end{bmatrix}$$\n",
    "\n",
    "It fillped everything in both coordinate."
   ]
  },
  {
   "cell_type": "markdown",
   "id": "53891fc4",
   "metadata": {},
   "source": [
    "What is the transformation matrix for the $\\begin{bmatrix}1&0\\\\0&1\\end{bmatrix}$ rotation by 90^∘ anticlockwise?\n",
    "\n",
    "$\\begin{bmatrix}1\\\\0\\end{bmatrix}$ goes to $\\begin{bmatrix}0\\\\1\\end{bmatrix}$\n",
    "\n",
    "and $\\begin{bmatrix}0\\\\1\\end{bmatrix}$ goes to $\\begin{bmatrix}-1\\\\0\\end{bmatrix}$\n",
    "\n",
    "so the transformation matrix will be: $\\begin{bmatrix}0&-1\\\\1&0\\end{bmatrix}$"
   ]
  },
  {
   "cell_type": "markdown",
   "id": "44ec233c",
   "metadata": {},
   "source": [
    "if the degree of rotation is $\\theta$:\n",
    "\n",
    "in 2-dimension, the transformation matrix will be: $\\begin{bmatrix}\\cos{\\theta}&\\sin{\\theta}\\\\-\\sin{\\theta}&\\cos{\\theta}\\end{bmatrix}$\n",
    "\n",
    "notation:\n",
    "\n",
    "if $\\theta = 90^o$ $\\cos{\\theta} = 0$\n",
    "\n",
    "if $\\theta = 90^o$ $\\sin{\\theta} = 1$"
   ]
  },
  {
   "cell_type": "markdown",
   "id": "ff09d852",
   "metadata": {},
   "source": [
    "**Application in Machine Learning**\n",
    "\n",
    "we don't need to think too much about rotations, but it is interesting. If we need to do things like transform faces if we wanted to do facial recognition, we'll want to do these sorts of stretches of mirrors and shears and rotations to faces. To get them all facing like that, rather than facing like this, or sort of some funny angle that we had from our camera that was looking at somebody. So we do need to do this in data science on occasion, and that's rotations. "
   ]
  },
  {
   "cell_type": "markdown",
   "id": "c277dcb6",
   "metadata": {},
   "source": [
    "## Composition or combination of matrix transformations"
   ]
  },
  {
   "cell_type": "markdown",
   "id": "9f7e1858",
   "metadata": {},
   "source": [
    "The orginal $e_1 = \\begin{bmatrix}1\\\\0\\end{bmatrix}$ $e_2 = \\begin{bmatrix}0\\\\1\\end{bmatrix}$\n",
    "\n",
    "And firstly we transform $e_1$ and $e_2$ to construct $A_1$:\n",
    "\n",
    "(Now, let's take our first transformation A1 as being a 90 degree anticlockwise rotation. So what happens if we rotate this by 90 degrees anticlockwise? )\n",
    "\n",
    "In this case, $e_1' = \\begin{bmatrix}0\\\\-1\\end{bmatrix}$ and $e_2' = \\begin{bmatrix}1\\\\0\\end{bmatrix}$\n",
    "\n",
    "So $A_1 = \\begin{bmatrix}0&1\\\\-1&0\\end{bmatrix}$\n",
    "\n",
    "Secondly we transform $e_1$ and $e_2$ to construct $A_2$:\n",
    "\n",
    "(What we'll say is that is a let's say a mirror.)\n",
    "\n",
    "In this case, $e_1' = \\begin{bmatrix}-1\\\\0\\end{bmatrix}$ and $e_2' = \\begin{bmatrix}0\\\\1\\end{bmatrix}$\n",
    "\n",
    "So $A_2 = \\begin{bmatrix}-1&0\\\\0&1\\end{bmatrix}$\n",
    "\n",
    "Now, let's ask ourselves what happens if I do A2 to A1. \n",
    "\n",
    "So now I'm going to **reflect over the result of doing A1**. \n",
    "\n",
    "In this case, $e_1'' = \\begin{bmatrix}0\\\\-1\\end{bmatrix}$ and $e_2'' = \\begin{bmatrix}-1\\\\0\\end{bmatrix}$\n",
    "\n",
    "So $A_2A_1 = \\begin{bmatrix}-1&0\\\\0&1\\end{bmatrix}\\begin{bmatrix}0&1\\\\-1&0\\end{bmatrix} = \\begin{bmatrix}0&-1\\\\-1&0\\end{bmatrix}$"
   ]
  },
  {
   "cell_type": "markdown",
   "id": "ad352c11",
   "metadata": {},
   "source": [
    "Notice that geometrically, we can show that A2 then A1, isn't the same as doing the translations in the other order first A1 and A2.\n",
    "\n",
    "$A_1A_2 = \\begin{bmatrix}0&1\\\\-1&0\\end{bmatrix}\\begin{bmatrix}-1&0\\\\0&1\\end{bmatrix} = \\begin{bmatrix}0&1\\\\1&0\\end{bmatrix}$"
   ]
  },
  {
   "cell_type": "markdown",
   "id": "9048b2a5",
   "metadata": {},
   "source": [
    "**It's not commutitive**\n",
    "$$A_3(A_2A_1) = (A_3A_2)A_1$$"
   ]
  },
  {
   "cell_type": "markdown",
   "id": "13b415d0",
   "metadata": {},
   "source": [
    "## Solving the apples and bananas problem: Gaussian elimination"
   ]
  },
  {
   "cell_type": "markdown",
   "id": "5c1d8734",
   "metadata": {},
   "source": [
    "**Gaussian elimination**\n",
    "\n",
    "firstly, elimination\n",
    "\n",
    "secondly, back-substitution"
   ]
  },
  {
   "cell_type": "markdown",
   "id": "5495dcab",
   "metadata": {},
   "source": [
    "If I want to solve the equation: $\\begin{bmatrix}2&3\\\\10&1\\end{bmatrix}\\begin{bmatrix}a\\\\b\\end{bmatrix} = \\begin{bmatrix}8\\\\13\\end{bmatrix}$ We can use Gaussian Elimination\n",
    "\n",
    "or:\n",
    "\n",
    "We can consider it as: $Ar = s$\n",
    "\n",
    "And since we know $AA^{-1} = I$\n",
    "\n",
    "We will have: $A^{-1}Ar = Ir = r = A^{-1}s$"
   ]
  },
  {
   "cell_type": "markdown",
   "id": "388e625b",
   "metadata": {},
   "source": [
    "**The problem is how to calculate the reverse of A?**\n",
    "\n",
    "We can use Gaussian Elimination \n",
    "\n",
    "$AA^{-1} = I \\implies$ Gaussian Elimation on A and $I$ $\\implies$ $I$ and $A^{-1}$"
   ]
  },
  {
   "cell_type": "markdown",
   "id": "3202f9af",
   "metadata": {},
   "source": [
    "There are computationally faster methods of doing what's called a decomposition process. And in practice what you do in any program that you write, is you simply call the solver of your problem or the function, something like inv(A) or whatever it is and it will pick the best method by inspecting the matrix you give it and return the answer. But the point here is to show how these problems are actually solved in a computer and also we'll observe some of the properties of these methods in different circumstances that will effect the sorts of things we want to do, when solving these sorts of problems."
   ]
  },
  {
   "cell_type": "markdown",
   "id": "a3ac3e0a",
   "metadata": {},
   "source": [
    "solving equation like $AB = r$\n",
    "\n",
    "using Gaussian Elimination\n",
    "\n",
    "$AB = r$ $\\implies$ $A - r$ $\\implies$ $I - B$\n",
    "\n",
    "get the value of matrix B"
   ]
  },
  {
   "cell_type": "markdown",
   "id": "e10a11ed",
   "metadata": {},
   "source": [
    "or use python:\n",
    "```\n",
    "import numpy as np\n",
    "\n",
    "B = np.linalg.solve(A,r)\n",
    "```"
   ]
  },
  {
   "cell_type": "markdown",
   "id": "e28a1c72",
   "metadata": {},
   "source": [
    "## Determinants and inverses"
   ]
  },
  {
   "cell_type": "markdown",
   "id": "6b44b372",
   "metadata": {},
   "source": [
    "**Determinants**\n",
    "\n",
    "$A = \\begin{pmatrix}a&b\\\\c&d\\end{pmatrix}$\n",
    "\n",
    "$\\begin{vmatrix}A\\end{vmatrix} = ad-cb$\n",
    "\n",
    "$\\frac{1}{ad-bc}\\begin{pmatrix}a&b\\\\c&d\\end{pmatrix}\\begin{pmatrix}d&-b\\\\-c&a\\end{pmatrix} = \\frac{1}{ad-bc}\\begin{pmatrix}ad-bc&0\\\\0&ad-bc\\end{pmatrix} = \\begin{pmatrix}1&0\\\\0&1\\end{pmatrix}$"
   ]
  },
  {
   "cell_type": "markdown",
   "id": "bc654838",
   "metadata": {},
   "source": [
    "by using python:\n",
    "```\n",
    "det(A)\n",
    "```"
   ]
  },
  {
   "cell_type": "markdown",
   "id": "d0ef246e",
   "metadata": {},
   "source": [
    "matrix is not linear independency like:\n",
    "    \n",
    "$\\begin{pmatrix}1&2\\\\1&2\\end{pmatrix}$\n",
    "\n",
    "$\\begin{pmatrix}1\\\\1\\end{pmatrix}$ and $\\begin{pmatrix}2\\\\2\\end{pmatrix}$ They're both points on the same line. They are just a multiple of each other they're not linearly independent.\n",
    "\n",
    "**What this matrix in fact does, is it transforms every point in space on a line.**\n",
    "\n",
    "determinant of A $\\begin{vmatrix}A\\end{vmatrix} = 0$"
   ]
  },
  {
   "cell_type": "markdown",
   "id": "914fbdc4",
   "metadata": {},
   "source": [
    "So if I had a three by three matrix with a similar situation describing a 3D space, and if I had the same position where one of the new basis vectors was just a linear multiple of the other two, it wasn't linearly independent, then now would mean the new space was either a plane or if there was only one independent basis vector, a line like we have here. In either case the volume enclose would be zero, so the determinant would be zero. "
   ]
  },
  {
   "cell_type": "markdown",
   "id": "ceebbd80",
   "metadata": {},
   "source": [
    "$\\begin{pmatrix}1&1&3\\\\1&2&4\\\\2&3&7\\end{pmatrix}\\begin{pmatrix}a\\\\b\\\\c\\end{pmatrix} = \\begin{pmatrix}12\\\\17\\\\29\\end{pmatrix}$\n",
    "\n",
    "row 3 = row 1 + row 2\n",
    "\n",
    "col 3 = 2 x col 3 + col 2\n",
    "\n",
    "$\\begin{pmatrix}1&1&3\\\\0&1&1\\\\0&0&0\\end{pmatrix}\\begin{pmatrix}a\\\\b\\\\c\\end{pmatrix} = \\begin{pmatrix}12\\\\5\\\\0\\end{pmatrix}$\n",
    "\n",
    "notice we have $0c = 0$ but it's not useful\n",
    "\n",
    "Then an infinite number of solutions for C in effect, any value of C would work. So now I can't solve my system of equations anymore, I don't have enough information. \n",
    "\n",
    "**So what we've shown is that where the basis vectors describing the matrix are linearly independent, then the determinant is zero, and that means I can't solve the system of simultaneous equations anymore.**\n",
    "\n",
    "**That means I'm stuck this matrix has no inverse.**"
   ]
  },
  {
   "cell_type": "markdown",
   "id": "6a50c876",
   "metadata": {},
   "source": [
    "### Rule\n",
    "\n",
    "Construct a matrix M by vectors you want to check whether they are linear independent\n",
    "\n",
    "Then computed the determinant of 𝑀\n",
    "\n",
    "If det𝑀≠0, the given vectors are linearly independent.\n",
    "\n",
    "If det𝑀=0, the given vectors are not linearly independent. And M will not have an inverss."
   ]
  },
  {
   "cell_type": "markdown",
   "id": "6bf5f8ef",
   "metadata": {},
   "source": [
    "### Make sure checking that the new basis vectors are linearly independent\n",
    "\n",
    "**Essence of a inverse matrix**\n",
    "\n",
    "The inverse matrix lets you undo your transformation, it lets you get from the new vectors to the original vectors. \n",
    "\n",
    "But if the matrix that you want to transform your data vectors has no inverse, that this is a transformation you can not undo.\n",
    "\n",
    "If I've done two dimension by turning a 2D space into a line, I can't undo that anymore, I don't have enough information because I've lost some of it during the transformation, I've lost that extra dimension.\n",
    "\n",
    "So in general, it's worth checking before you propose a new basis vector set and then use a matrix to transform your data vectors, that this is a transformation you can undo, by checking that the new basis vectors are linearly independent. "
   ]
  }
 ],
 "metadata": {
  "kernelspec": {
   "display_name": "Python 3 (ipykernel)",
   "language": "python",
   "name": "python3"
  },
  "language_info": {
   "codemirror_mode": {
    "name": "ipython",
    "version": 3
   },
   "file_extension": ".py",
   "mimetype": "text/x-python",
   "name": "python",
   "nbconvert_exporter": "python",
   "pygments_lexer": "ipython3",
   "version": "3.8.8"
  }
 },
 "nbformat": 4,
 "nbformat_minor": 5
}
