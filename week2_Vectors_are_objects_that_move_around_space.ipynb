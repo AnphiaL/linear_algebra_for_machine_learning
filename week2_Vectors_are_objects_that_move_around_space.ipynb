{
 "cells": [
  {
   "cell_type": "markdown",
   "id": "ccfedaca",
   "metadata": {},
   "source": [
    "## Vectors are objects that move around space"
   ]
  },
  {
   "cell_type": "markdown",
   "id": "b25dd5fa",
   "metadata": {},
   "source": [
    "**Goals**\n",
    "\n",
    "1.Calculate basic operations (dot product, modulus, negation) on vectors\n",
    "\n",
    "2.Calculate a change of basis\n",
    "\n",
    "3.Recall linear independence\n",
    "\n",
    "4.Identify a linearly independent basis and relate this to the dimensionality of the space"
   ]
  },
  {
   "cell_type": "markdown",
   "id": "a82cb27b",
   "metadata": {},
   "source": [
    "## Modulus & Inner Product"
   ]
  },
  {
   "cell_type": "markdown",
   "id": "ea2a0337",
   "metadata": {},
   "source": [
    "### The Length of a Vector (Size)"
   ]
  },
  {
   "cell_type": "markdown",
   "id": "dce9f4c2",
   "metadata": {},
   "source": [
    "if i and j are init vector\n",
    "\n",
    "$$ r = ai + bj = \\begin{pmatrix}a\\\\b\\end{pmatrix}$$\n",
    "\n",
    "and it also can be written as $$r = \\begin{vmatrix}a\\\\b\\end{vmatrix}$$\n",
    "\n",
    "the size of r will be: $$\\begin{vmatrix}r\\end{vmatrix} = \\sqrt{a^2+b^2}$$"
   ]
  },
  {
   "cell_type": "markdown",
   "id": "e088f358",
   "metadata": {},
   "source": [
    "### Dot Product of a Vector (Inner Scalar or Projection Product)"
   ]
  },
  {
   "cell_type": "markdown",
   "id": "a6580c58",
   "metadata": {},
   "source": [
    "**dot product**\n",
    "\n",
    "if $$r = \\begin{pmatrix}3\\\\2\\end{pmatrix} = \\begin{pmatrix}r_i\\\\r_j\\end{pmatrix}$$\n",
    "and $$s = \\begin{pmatrix}-1\\\\2\\end{pmatrix} = \\begin{pmatrix}s_i\\\\s_j\\end{pmatrix}$$"
   ]
  },
  {
   "cell_type": "markdown",
   "id": "ba564aaa",
   "metadata": {},
   "source": [
    "then $$r . s = r_is_i + r_js_j = 3 \\times (-1) + 2 \\times 2 = 1$$"
   ]
  },
  {
   "cell_type": "markdown",
   "id": "6e69a2c6",
   "metadata": {},
   "source": [
    "**Property 1: Commutative**\n",
    "\n",
    "$$r . s = s . r$$"
   ]
  },
  {
   "cell_type": "markdown",
   "id": "8d833a04",
   "metadata": {},
   "source": [
    "**Property 2: the dot product is distributive over addition**\n",
    "\n",
    "$$r . (s + t) = r . s + r . t$$"
   ]
  },
  {
   "cell_type": "markdown",
   "id": "5313e6d3",
   "metadata": {},
   "source": [
    "**Property 3: Associativity**\n",
    "\n",
    "if r,s are vectors and a is a scalar number:\n",
    "    \n",
    "$$r . (as) = a(r. s)$$"
   ]
  },
  {
   "cell_type": "markdown",
   "id": "9384bf9c",
   "metadata": {},
   "source": [
    "**writing style**\n",
    "\n",
    "As an aside, sometimes you'll see people in physics and engineering write vectors in bold, numbers or scalars in normal font or they'll underline their vectors to easily distinguish them from things that have scalars. \n",
    "\n",
    "eg. $\\vec2$\n",
    "\n",
    "eg. $\\vec a$\n",
    "\n",
    "eg. $\\hat{a}$"
   ]
  },
  {
   "cell_type": "markdown",
   "id": "41a51401",
   "metadata": {},
   "source": [
    "**mod**\n",
    "\n",
    "if $$r = \\begin{pmatrix}r_1\\\\r_2\\end{pmatrix}$$\n",
    "\n",
    "$$r . r = r_1r_1 + r_2r_2 = r_1^2 + r_2^2 = (\\sqrt{r_1^2 + r_2^2})^2 = (\\begin{vmatrix}r\\end{vmatrix})^2$$\n",
    "\n",
    "$$\\begin{vmatrix}r\\end{vmatrix}$$ is mod r (size of r)"
   ]
  },
  {
   "cell_type": "markdown",
   "id": "819939c2",
   "metadata": {},
   "source": [
    "## Cosine & Dot Product"
   ]
  },
  {
   "cell_type": "markdown",
   "id": "ebf83778",
   "metadata": {},
   "source": [
    "**cosine rules**\n",
    "\n",
    "if a, b, c are 3 edges in a triangle and $\\theta$ is the angle between edge a and edge b\n",
    "\n",
    "$$c^2 = a^2 + b^2 - 2ab\\cos\\theta$$"
   ]
  },
  {
   "cell_type": "markdown",
   "id": "4aa4c4c7",
   "metadata": {},
   "source": [
    "in vectors:\n",
    "\n",
    "if the angle between $\\vec{r}$ and $\\vec{s}$ is $\\theta$:\n",
    "\n",
    "$$\\begin{vmatrix}r-s\\end{vmatrix}^2 = \\begin{vmatrix}r\\end{vmatrix}^2 + \\begin{vmatrix}s\\end{vmatrix}^2 - 2\\begin{vmatrix}r\\end{vmatrix}\\begin{vmatrix}s\\end{vmatrix}\\cos{theta}$$"
   ]
  },
  {
   "cell_type": "markdown",
   "id": "ca2beda0",
   "metadata": {},
   "source": [
    "and because:\n",
    "\n",
    "$$\\begin{vmatrix}r-s\\end{vmatrix}^2 = (r - s).(r - s) = r.r - 2r.s + s.s = \\begin{vmatrix}r\\end{vmatrix}^2 + \\begin{vmatrix}s\\end{vmatrix}^2 - 2r.s$$"
   ]
  },
  {
   "cell_type": "markdown",
   "id": "455a0b85",
   "metadata": {},
   "source": [
    "so:\n",
    "    \n",
    "$$r.s = \\begin{vmatrix}r\\end{vmatrix}\\begin{vmatrix}s\\end{vmatrix}\\cos{\\theta}$$\n",
    "\n",
    "notation:\n",
    "\n",
    "when $\\theta = 0^o$ $\\cos{\\theta} = 1$\n",
    "\n",
    "when $\\theta = 90^o$ $\\cos{\\theta} = 0$\n",
    "\n",
    "when $\\theta = 180^o$ $\\cos{\\theta} = -1$"
   ]
  },
  {
   "cell_type": "markdown",
   "id": "763a7bad",
   "metadata": {},
   "source": [
    "## Projection"
   ]
  },
  {
   "cell_type": "markdown",
   "id": "6d796b18",
   "metadata": {},
   "source": [
    "### Scalar Projection\n",
    "\n",
    "**the projection of s on to r**:\n",
    "\n",
    "$$= \\frac{r.s}{\\begin{vmatrix}r\\end{vmatrix}^2} = \\begin{vmatrix}s\\end{vmatrix}\\cos{\\theta}$$"
   ]
  },
  {
   "cell_type": "markdown",
   "id": "77318119",
   "metadata": {},
   "source": [
    "## Vector Projection\n",
    "\n",
    "**the projection of s on to r**:\n",
    "\n",
    "$$r\\frac{r.s}{\\begin{vmatrix}r\\end{vmatrix}\\begin{vmatrix}r\\end{vmatrix}} = \\frac{r.s}{r.r}r$$\n",
    "\n",
    "so the vector projection is a number times a unit vector that goes the direction of r"
   ]
  },
  {
   "cell_type": "markdown",
   "id": "33127b93",
   "metadata": {},
   "source": [
    "## Changing The Reference Frame"
   ]
  },
  {
   "cell_type": "markdown",
   "id": "d612bdc5",
   "metadata": {},
   "source": [
    "### Changing Basis"
   ]
  },
  {
   "cell_type": "markdown",
   "id": "a6a8b394",
   "metadata": {},
   "source": [
    "basic vectors like: $\\hat{e_1} = \\begin{bmatrix}1\\\\0\\end{bmatrix}$ and $\\hat{e_2} = \\begin{bmatrix}0\\\\1\\end{bmatrix}$"
   ]
  },
  {
   "cell_type": "markdown",
   "id": "c63d569c",
   "metadata": {},
   "source": [
    "the other vectors consist of $b_1$ and $b_2$ like:\n",
    "\n",
    "$r = 3\\hat{e_1} + 4\\hat{e_2} = \\begin{bmatrix}3\\\\4\\end{bmatrix}$\n",
    "\n",
    "$b_1 = 2\\hat{e_1} + 1\\hat{e_2} = \\begin{bmatrix}2\\\\1\\end{bmatrix}$\n",
    "\n",
    "$b_2 = -2\\hat{e_1} + 4\\hat{e_2} = \\begin{bmatrix}-2\\\\4\\end{bmatrix}$"
   ]
  },
  {
   "cell_type": "markdown",
   "id": "3b193cc9",
   "metadata": {},
   "source": [
    "the question is that r referred to the basis vector $b_1$ and $b_2$ is also exist:\n",
    "\n",
    "$r = \\begin{bmatrix}?\\\\?\\end{bmatrix}$"
   ]
  },
  {
   "cell_type": "markdown",
   "id": "f45b9ad7",
   "metadata": {},
   "source": [
    "another question: how do I check whether if $b_1$ and $b_2$ are at 90 degrees to each other?\n",
    "\n",
    "$\\cos{\\theta} = \\frac{b_1.b_2}{\\begin{vmatrix}b_1\\end{vmatrix}\\begin{vmatrix}b_2\\end{vmatrix}} = \\frac{0}{25} = 0$\n",
    "\n",
    "You are given that $b_1$ and $b_2$ are **pairwise orthogonal to each other.** "
   ]
  },
  {
   "cell_type": "markdown",
   "id": "52a867d5",
   "metadata": {},
   "source": [
    "**to calculate r referred to the basis vector $b_1$ and $b_2$**\n",
    "\n",
    "the scalar projection of r on to $b_1$: $\\frac{r.b_1}{\\begin{vmatrix}b_1\\end{vmatrix}^2} = \\frac{3\\times2+4\\times1}{2^2+1^2} = \\frac{10}{5} = 2$\n",
    "\n",
    "the scalar projection of r on to $b_2$: $\\frac{r.b_2}{\\begin{vmatrix}b_2\\end{vmatrix}^2} = \\frac{3\\times(-2)+4\\times4}{(-2)^2+4^2} = \\frac{10}{20} = \\frac{1}{2}$\n",
    "\n",
    "so the vector projection of r on to $b_1$: $b_1\\frac{r.b_2}{\\begin{vmatrix}b_2\\end{vmatrix}^2} = \\frac{3\\times(-2)+4\\times4}{(-2)^2+4^2} = \\frac{10}{20} = 2b_1$\n",
    "\n",
    "and the vector projection of r on to $b_2$: $b_2\\frac{r.b_2}{\\begin{vmatrix}b_2\\end{vmatrix}^2} = \\frac{3\\times(-2)+4\\times4}{(-2)^2+4^2} = \\frac{10}{20} = \\frac{1}{2}b_2$\n",
    "\n",
    "**so r referred to the basis vector $b_1$ and $b_2$:**\n",
    "\n",
    "$$r = 2b_1 + \\frac{1}{2}b_2 = \\begin{vmatrix}2\\\\\\frac{1}{2}\\end{vmatrix}$$"
   ]
  },
  {
   "cell_type": "markdown",
   "id": "5d8a794b",
   "metadata": {},
   "source": [
    "## Basis, Vector Space, and Linear Independence"
   ]
  },
  {
   "cell_type": "markdown",
   "id": "0db9d352",
   "metadata": {},
   "source": [
    "A basis is a set of n vectors：\n",
    "\n",
    "1. that are not linear combinations of each other, which means they are linearly independent of each other \n",
    "\n",
    "2. they span the space they describe. \n",
    "\n",
    "The space is then n dimensional. "
   ]
  },
  {
   "cell_type": "markdown",
   "id": "ed001d1e",
   "metadata": {},
   "source": [
    "Given $b_1$ $b_2$ and $b_3$:\n",
    "\n",
    "$b_1$ $b_2$ and $b_3$ are linearly independent of each other means $b_3 \\neq a_1b_1 + a_2b_2$ for any $a_1$ and $a_2$\n",
    "\n",
    "and $b_3$ does not lie in the plane spanned by $b_1$ and $b_2$"
   ]
  },
  {
   "cell_type": "markdown",
   "id": "b969b4b7",
   "metadata": {},
   "source": [
    "**A basis don't have to be a unit vector which means is has length one**\n",
    "\n",
    "**A basis don't have to be orthogonal that is at 90 degrees to each other**"
   ]
  },
  {
   "cell_type": "markdown",
   "id": "cb66a737",
   "metadata": {},
   "source": [
    "## Application of Changing Basis"
   ]
  },
  {
   "cell_type": "markdown",
   "id": "a2530bd4",
   "metadata": {},
   "source": [
    "Imagine we have a bunch of points in a 2-D plot.\n",
    "\n",
    "We try to fitting this data into a line model.\n",
    "\n",
    "And the distance from the line to every point is effectively a measure of how noisy this data cloud is. Although if points are all tight on the line they would be very small distances away but if they are all quite spread they would be big distances away."
   ]
  },
  {
   "cell_type": "markdown",
   "id": "ec71d61e",
   "metadata": {},
   "source": [
    "**So the distance from the line to the point is effect of the noise**\n",
    "\n",
    "**This noise dimension tells me how good this line fit is.**"
   ]
  },
  {
   "cell_type": "markdown",
   "id": "f445243d",
   "metadata": {},
   "source": [
    "**How to build the basis?**\n",
    "\n",
    "The way I've defined these two directions along the line and away from the line, they are **orthogonal to each other**. So I can use the **dot-product** to do the **projection** to **map the data from the x-y space unto the space of the line**, **along the line** and **away from the line**, which is what we deal into in the last little segment."
   ]
  },
  {
   "cell_type": "markdown",
   "id": "e6a2274a",
   "metadata": {},
   "source": [
    "2 basis:\n",
    "\n",
    "1. along the line \n",
    "\n",
    "2. away from the line"
   ]
  }
 ],
 "metadata": {
  "kernelspec": {
   "display_name": "Python 3 (ipykernel)",
   "language": "python",
   "name": "python3"
  },
  "language_info": {
   "codemirror_mode": {
    "name": "ipython",
    "version": 3
   },
   "file_extension": ".py",
   "mimetype": "text/x-python",
   "name": "python",
   "nbconvert_exporter": "python",
   "pygments_lexer": "ipython3",
   "version": "3.8.8"
  }
 },
 "nbformat": 4,
 "nbformat_minor": 5
}
